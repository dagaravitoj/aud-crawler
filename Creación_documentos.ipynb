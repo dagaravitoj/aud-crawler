{
  "cells": [
    {
      "cell_type": "markdown",
      "metadata": {
        "id": "view-in-github",
        "colab_type": "text"
      },
      "source": [
        "<a href=\"https://colab.research.google.com/github/dagaravitoj/aud-crawler/blob/master/Creaci%C3%B3n_documentos.ipynb\" target=\"_parent\"><img src=\"https://colab.research.google.com/assets/colab-badge.svg\" alt=\"Open In Colab\"/></a>"
      ]
    },
    {
      "cell_type": "markdown",
      "metadata": {
        "id": "vp_kjeNd68FM"
      },
      "source": [
        "# log\n",
        "EL objetivo de este script es alimentar las bases de contenido de EducALL. Para iniciar con la sugerencia de contenido.\n",
        "\n",
        "[x] Listas de reproducción a enlaces\n",
        "\n",
        "[x] Extracción de metadatos de Youtube para recomendación no personalizada\n",
        "\n",
        "[] Key Frames\n",
        "\n",
        "[x] Descargar subtitulos\n",
        "\n",
        "[] Encuesta de Intereses\n",
        "\n",
        "[x] Reescribir la importación del audio\n",
        "\n",
        "[] Jerrquia de carpetas para exportación\n",
        "\n",
        "[] Probar otra forma de extraer los screens\n",
        "ffmpeg -ss 4 -i input.avi -s 320x240 -frames:v 1 output.jpg\n",
        "\n",
        "http://trac.ffmpeg.org/wiki/Create%20a%20thumbnail%20image%20every%20X%20seconds%20of%20the%20video\n",
        "\n",
        "\n",
        "old \n",
        "https://colab.research.google.com/drive/1CHno4kow8wYVccyrhUYQHeuLB1c9iBF1?authuser=1qº"
      ]
    },
    {
      "cell_type": "code",
      "execution_count": null,
      "metadata": {
        "colab": {
          "base_uri": "https://localhost:8080/"
        },
        "id": "mk9r2FjEz4--",
        "outputId": "b0ca4d33-8f33-4001-971d-57ed23c34372"
      },
      "outputs": [
        {
          "output_type": "stream",
          "name": "stdout",
          "text": [
            "  Building wheel for playsound (setup.py) ... \u001b[?25l\u001b[?25hdone\n",
            "\u001b[K     |████████████████████████████████| 5.6 MB 7.5 MB/s \n",
            "\u001b[?25h  Building wheel for python-docx (setup.py) ... \u001b[?25l\u001b[?25hdone\n",
            "\u001b[K     |████████████████████████████████| 812 kB 7.9 MB/s \n",
            "\u001b[?25h  Building wheel for imagehash (setup.py) ... \u001b[?25l\u001b[?25hdone\n",
            "\u001b[K     |████████████████████████████████| 2.6 MB 8.1 MB/s \n",
            "\u001b[K     |████████████████████████████████| 112 kB 55.9 MB/s \n",
            "\u001b[K     |████████████████████████████████| 357 kB 58.9 MB/s \n",
            "\u001b[K     |████████████████████████████████| 218 kB 43.0 MB/s \n",
            "\u001b[K     |████████████████████████████████| 2.0 MB 41.2 MB/s \n",
            "\u001b[?25h"
          ]
        }
      ],
      "source": [
        "!pip install pydub --quiet\n",
        "!pip install gtts --quiet\n",
        "!pip install playsound --quiet\n",
        "# !pip install youtube-mp3-downloader\n",
        "#!pip install youtube_dl\n",
        "#!pip install ffmpeg\n",
        "#!pip install katna\n",
        "!pip install python-docx --quiet\n",
        "#!pip install youtube-transcript-api\n",
        "!pip install imagehash --quiet\n",
        "!pip install yt-dlp --quiet\n",
        "#!pip install docx2pdf\n"
      ]
    },
    {
      "cell_type": "markdown",
      "metadata": {
        "id": "4NvAI6gwGLlS"
      },
      "source": [
        "# Conectarse a Google Drive"
      ]
    },
    {
      "cell_type": "code",
      "execution_count": null,
      "metadata": {
        "id": "Na5kOIhbGG0G"
      },
      "outputs": [],
      "source": [
        "#import os\n",
        "#import pandas as pd\n",
        "#import subprocess\n",
        "#from google.colab import auth\n",
        "#auth.authenticate_user()\n",
        "#import gspread\n",
        "#from oauth2client.client import GoogleCredentials\n",
        "#gc = gspread.authorize(GoogleCredentials.get_application_default())"
      ]
    },
    {
      "cell_type": "code",
      "execution_count": null,
      "metadata": {
        "id": "H_y_4GqToUpX"
      },
      "outputs": [],
      "source": [
        "from google.colab import auth\n",
        "auth.authenticate_user()\n",
        "\n",
        "import gspread\n",
        "from google.auth import default\n",
        "creds, _ = default()\n",
        "\n",
        "gc = gspread.authorize(creds)"
      ]
    },
    {
      "cell_type": "code",
      "execution_count": null,
      "metadata": {
        "colab": {
          "base_uri": "https://localhost:8080/"
        },
        "id": "S7W3R5yGPhcc",
        "outputId": "35e33cfe-9436-4091-8bb5-9daf34516942"
      },
      "outputs": [
        {
          "name": "stdout",
          "output_type": "stream",
          "text": [
            "Drive already mounted at /gdrive; to attempt to forcibly remount, call drive.mount(\"/gdrive\", force_remount=True).\n"
          ]
        }
      ],
      "source": [
        "from google.colab import drive\n",
        "drive.mount('/gdrive')"
      ]
    },
    {
      "cell_type": "markdown",
      "metadata": {
        "id": "nx_x8AbfHKK9"
      },
      "source": [
        "# Playlist a descargar\n",
        "\n",
        "\n",
        "https://www.youtube.com/c/yotelocuento/playlists\n",
        "\n",
        "\n",
        "https://www.youtube.com/watch?v=9hoeuYzYIGo&list=PL6UDGdAJCq3xyPK3urik0Lp4PCQcpZOYi\n",
        "\n",
        "#Archivo con las listas a descargar, pendiente automatizar\n",
        "https://docs.google.com/spreadsheets/d/1OBLavC7l3pmgeCcEn83RJMqf_2nfV5CY6Li0-GTz4_A/edit"
      ]
    },
    {
      "cell_type": "code",
      "execution_count": null,
      "metadata": {
        "colab": {
          "base_uri": "https://localhost:8080/",
          "height": 35
        },
        "id": "N0hz327izm98",
        "outputId": "b4995baf-7af8-4bfb-b095-bb3ed48dcd44"
      },
      "outputs": [
        {
          "data": {
            "application/vnd.google.colaboratory.intrinsic+json": {
              "type": "string"
            },
            "text/plain": [
              "'Todo Khan'"
            ]
          },
          "execution_count": 4,
          "metadata": {},
          "output_type": "execute_result"
        }
      ],
      "source": [
        "import pandas as pd\n",
        "wb = gc.open_by_url('https://docs.google.com/spreadsheets/d/1OBLavC7l3pmgeCcEn83RJMqf_2nfV5CY6Li0-GTz4_A/edit#gid=1236566438')\n",
        "#wb = gc.open_by_key('1CkoGczcFuESjPijsKA4_5aKBimOFbqL-')\n",
        "sheet = wb.worksheet('Crawler 2022')\n",
        "data = sheet.get_all_values()\n",
        "df = pd.DataFrame(data)\n",
        "df.columns = df.iloc[0]\n",
        "df = df.iloc[1:]\n",
        "df.head()\n",
        "df_clean=df[pd.to_numeric(df.docs)==0]\n",
        "df_clean.reset_index(inplace=True)\n",
        "\n",
        "playlist_id=df_clean.iloc[0,1]\n",
        "playlist_name=df_clean.iloc[0,2]\n",
        "canal_name=df_clean.iloc[0,3]\n",
        "\n",
        "playlist_id\n",
        "\n",
        "canal_name\n",
        "playlist_name"
      ]
    },
    {
      "cell_type": "markdown",
      "metadata": {
        "id": "4o0XH9fmg3uj"
      },
      "source": [
        "## Directorios de trabajo"
      ]
    },
    {
      "cell_type": "code",
      "execution_count": null,
      "metadata": {
        "id": "892VT0bvQkap"
      },
      "outputs": [],
      "source": [
        "import os\n",
        "import re\n",
        "#path=\"/content/drive/My Drive/2020/Hackathon EducAll/Tech/Audio/EducALL Contenido CC/Procesados/\"\n",
        "import pandas as pd\n",
        "pd.set_option('display.max_colwidth', None)\n",
        "\n",
        "path=\"/gdrive/MyDrive/ContenidosEducALL/\"\n",
        "path_share ='/gdrive/Shareddrives/ContenidosEducALL/'\n",
        "\n",
        "out_path=os.path.join(path,playlist_name)\n",
        "result_path=os.path.join(path_share,'0.Salida',playlist_name)\n",
        "os.mkdir(result_path)\n"
      ]
    },
    {
      "cell_type": "markdown",
      "metadata": {
        "id": "K82Eyi8bxt3e"
      },
      "source": [
        "## Cargue de archivo con metadatos "
      ]
    },
    {
      "cell_type": "code",
      "execution_count": null,
      "metadata": {
        "id": "UowStfPLhGdx"
      },
      "outputs": [],
      "source": [
        "xlsx=[]\n",
        "for file in os.listdir(result_path):\n",
        "    if file.endswith(\".xlsx\"):\n",
        "      xlsx.append(os.path.join(result_path, file))\n",
        "\n",
        "video_data=pd.read_excel(xlsx[0], index_col=0) "
      ]
    },
    {
      "cell_type": "markdown",
      "metadata": {
        "id": "ra0wlmPFjmv7"
      },
      "source": [
        "# Cargue de archivo total"
      ]
    },
    {
      "cell_type": "code",
      "execution_count": null,
      "metadata": {
        "id": "rN_OVr-Xabve"
      },
      "outputs": [],
      "source": [
        "# Archivos de archivos con key_words (de spacy)\n",
        "key_words_files=[]\n",
        "\n",
        "for file in os.listdir(path):\n",
        "    if file.startswith(\"key\"):\n",
        "      key_words_files.append(file)\n",
        "\n",
        "key_words_files\n",
        "\n",
        "\n",
        "li=[]\n",
        "for filename in key_words_files:\n",
        "    df = pd.read_excel(os.path.join(path,filename), index_col=None, header=0)\n",
        "    li.append(df)\n",
        "\n",
        "frame = pd.concat(li, axis=0, ignore_index=True) \n",
        "\n",
        "frame\n"
      ]
    },
    {
      "cell_type": "code",
      "execution_count": null,
      "metadata": {
        "id": "LZobptrxW7w-"
      },
      "outputs": [],
      "source": [
        "#frame.columns\n",
        "frame.drop(['Unnamed: 0', 'Unnamed: 0.1', 'Unnamed: 0.1.1', 'Unnamed: 0.1.1.1','Unnamed: 0.1.1.1.1', 'Unnamed: 0.1.1.1.1.1', 'Unnamed: 0.1.1.1.1.1.1'],axis=1,inplace=True)\n",
        "\n"
      ]
    },
    {
      "cell_type": "code",
      "execution_count": null,
      "metadata": {
        "colab": {
          "base_uri": "https://localhost:8080/"
        },
        "id": "kEOamBb1o3_z",
        "outputId": "ea83536f-8567-4bb4-83e3-531acb30efe5"
      },
      "outputs": [
        {
          "data": {
            "text/plain": [
              "('/gdrive/MyDrive/ContenidosEducALL/Todo Khan', 'Todo Khan')"
            ]
          },
          "execution_count": 27,
          "metadata": {},
          "output_type": "execute_result"
        }
      ],
      "source": [
        "len(frame) #Ejecución: No Requerida\n",
        "#frame.to_excel(os.path.join(out_path,playlist_name+\".xlsx\"))"
      ]
    },
    {
      "cell_type": "code",
      "execution_count": null,
      "metadata": {
        "colab": {
          "base_uri": "https://localhost:8080/"
        },
        "id": "nNrMSlFGjmEn",
        "outputId": "5ed67b9e-d744-491c-f038-0268e22c0d7b"
      },
      "outputs": [
        {
          "data": {
            "text/plain": [
              "Algebra I.xlsx                                               460\n",
              "Pre-álgebra.xlsx                                            305\n",
              "Economía: Mercados Financieros y de capital.xlsx            278\n",
              "Algebra II.xlsx                                              248\n",
              "Geometría.xlsx                                              214\n",
              "Cálculo Integral.xlsx                                       211\n",
              "Química Orgánica.xlsx                                      200\n",
              "Matemáticas básicas F Carlos Slim.xlsx                     156\n",
              "Cálculo Diferencial.xlsx                                    147\n",
              "Pre-cálculo.xlsx                                            136\n",
              "Àlgebra Lineal.xlsx                                         132\n",
              "Probabilidad y estadística.xlsx                             118\n",
              "Fisíca.xlsx                                                 118\n",
              "Matemáticas Elementales.xlsx                                111\n",
              "Principios de álgebra.xlsx                                  111\n",
              "Cálculo multivariable.xlsx                                   91\n",
              "T-Series Kids Hut - Español | historias para niños.xlsx     88\n",
              "Aritmetica.xlsx                                               79\n",
              "Trigonometría.xlsx                                           79\n",
              "Microeconomía.xlsx                                           75\n",
              "Macroeconomía.xlsx                                           69\n",
              "Química.xlsx                                                 65\n",
              "Ecuaciones diferenciales.xlsx                                 63\n",
              "Khan para maestros.xlsx                                       56\n",
              "Cuentos del famoso libro de perrito.xlsx                      37\n",
              "Libros del rincón.xlsx                                       36\n",
              "Principios de Geometría.xlsx                                 36\n",
              "Concursos de matemáticas.xlsx                                34\n",
              "Mentalidad de crecimiento.xlsx                                30\n",
              "Matematicas Basicas.xlsx                                      29\n",
              "Todos los cuentos.xlsx                                        29\n",
              "Matemática Recreativa.xlsx                                   18\n",
              "Preparación de exámenes.xlsx                                13\n",
              "Guías para Padres.xlsx                                       12\n",
              "Medtación guiada.xlsx                                        12\n",
              "Límites.xlsx                                                  4\n",
              "Name: filename, dtype: int64"
            ]
          },
          "execution_count": 9,
          "metadata": {},
          "output_type": "execute_result"
        }
      ],
      "source": [
        "#df_subtitles=pd.read_excel(os.path.join(path,'df_subtitles.xlsx'))\n",
        "\n",
        "#df_subtitles=pd.read_excel(os.path.join(path,'key_words 0 600.xlsx'))\n",
        "video_data=frame\n",
        "\n",
        "video_data.columns\n",
        "video_data['filename'].value_counts()"
      ]
    },
    {
      "cell_type": "markdown",
      "metadata": {
        "id": "Pq3SrKOmMkP3"
      },
      "source": [
        "# 📃Función para crear documentos"
      ]
    },
    {
      "cell_type": "code",
      "execution_count": null,
      "metadata": {
        "id": "GqqqypHwM5pT"
      },
      "outputs": [],
      "source": [
        "rate='0.25'\n",
        "video_data['filename'].replace(\".xlsx\",\"\",regex=True, inplace = True)\n",
        "videos_carpetas=video_data['filename'].drop_duplicates()\n",
        "video_data_clean=video_data.drop_duplicates(subset='video_id',keep='last')\n",
        "iii=videos_carpetas.iloc[2]\n",
        "video_data_sub=video_data[video_data['filename']==iii]"
      ]
    },
    {
      "cell_type": "code",
      "execution_count": null,
      "metadata": {
        "id": "SEiqp_3xC1Ec"
      },
      "outputs": [],
      "source": [
        "import imagehash\n",
        "from PIL import Image\n",
        "\n",
        "def calculate_hash(dir):\n",
        "    \"\"\"Generate Hash Values for all images in a directory\n",
        "\n",
        "    Args:\n",
        "        dir (str): Directory to search for images\n",
        "\n",
        "    Returns:\n",
        "        hash_values (list): List of hash values for all images in the directory\n",
        "        image_ids (list): List of image ids for all images in the directory\n",
        "    \"\"\"\n",
        "\n",
        "    hash_values = []\n",
        "    image_ids = []\n",
        "\n",
        "    for file in pngs:\n",
        "\n",
        "        #path = os.path.join(dir, file)\n",
        "        img = Image.open(file)\n",
        "\n",
        "        #hash = imagehash.average_hash(img)\n",
        "        hash = imagehash.phash(img)\n",
        "        #hash = imagehash.whash(img) #muy sensible\n",
        "        #hash = imagehash.dhash(img)\n",
        "        #hash = imagehash.colorhash(img)\n",
        "\n",
        "        hash_values.append(hash)\n",
        "        image_ids.append(file)\n",
        "\n",
        "    return image_ids, hash_values\n",
        "\n",
        "def prepare_dataframe(image_ids, hash_values):\n",
        "\n",
        "    # Create DataFrame with hash values and image ids\n",
        "    df = pd.DataFrame(\n",
        "        {\n",
        "            \"image_ids\": image_ids, \n",
        "            \"hash_values\": hash_values, \n",
        "            }\n",
        "    )\n",
        "\n",
        "    # Create new columns in df with image_ids having hash difference value=0 \n",
        "    for i in range(len(df.image_ids)):\n",
        "        df[f\"diff_{image_ids[i]}\"] = 0\n",
        "\n",
        "    return df\n",
        "\n",
        "def calculate_differences(df):\n",
        "\n",
        "    # Obtain difference for every image_id one by one\n",
        "    for i in range(len(df.hash_values)):\n",
        "        differences = []\n",
        "\n",
        "        for j in range(len(df.hash_values)):\n",
        "            differences.append(df.hash_values[i] - df.hash_values[j])\n",
        "\n",
        "        # Store the difference values for every image_id\n",
        "        df.iloc[i, 2:] = differences\n",
        "\n",
        "    return df"
      ]
    },
    {
      "cell_type": "markdown",
      "metadata": {
        "id": "RqtW7yYWXh_z"
      },
      "source": [
        "# Función principal"
      ]
    },
    {
      "cell_type": "markdown",
      "metadata": {
        "id": "oUaH3yhB_K_t"
      },
      "source": [
        "# Función principal parchada"
      ]
    },
    {
      "cell_type": "code",
      "execution_count": null,
      "metadata": {
        "colab": {
          "base_uri": "https://localhost:8080/"
        },
        "id": "vNKDALY0_GUk",
        "outputId": "bfa4aa9b-8400-4276-ee5e-c7a90e49e3e8"
      },
      "outputs": [
        {
          "name": "stdout",
          "output_type": "stream",
          "text": [
            "número 25 carpeta Microeconomía\n",
            "número 26 carpeta Principios de álgebra\n",
            "número 27 carpeta Algebra I\n"
          ]
        },
        {
          "name": "stderr",
          "output_type": "stream",
          "text": [
            "/usr/local/lib/python3.7/dist-packages/pandas/util/_decorators.py:311: SettingWithCopyWarning: \n",
            "A value is trying to be set on a copy of a slice from a DataFrame\n",
            "\n",
            "See the caveats in the documentation: https://pandas.pydata.org/pandas-docs/stable/user_guide/indexing.html#returning-a-view-versus-a-copy\n",
            "  return func(*args, **kwargs)\n",
            "/usr/local/lib/python3.7/dist-packages/ipykernel_launcher.py:46: PerformanceWarning: DataFrame is highly fragmented.  This is usually the result of calling `frame.insert` many times, which has poor performance.  Consider joining all columns at once using pd.concat(axis=1) instead.  To get a de-fragmented frame, use `newframe = frame.copy()`\n",
            "/usr/local/lib/python3.7/dist-packages/ipykernel_launcher.py:50: PerformanceWarning: DataFrame is highly fragmented.  This is usually the result of calling `frame.insert` many times, which has poor performance.  Consider joining all columns at once using pd.concat(axis=1) instead.  To get a de-fragmented frame, use `newframe = frame.copy()`\n"
          ]
        },
        {
          "name": "stdout",
          "output_type": "stream",
          "text": [
            "163 de 459 yrG8hQV-ZX8 Similitud entre pendiente y triángulo 4\n",
            "164 de 459 L_tyTHNexhU Triángulos similares para probar pendiente constante\n",
            "165 de 459 XlZ-JDkun5U Encontrando la intersección en una función lineal con una tabla\n",
            "166 de 459 JSlVrJKbXBU Encontrando la intersección X de una línea\n",
            "167 de 459 2y2p9gFKAX0 Graficando usando Intersecciones\n",
            "168 de 459 4oKA_Uja9jU Gráficas utilizando intersecciones en X e Y\n",
            "169 de 459 J67akqk4CoY Interpretando intersecciones de funciones lineales\n",
            "170 de 459 HEF8Eepm5C8 Intersección X,Y\n",
            "171 de 459 vz6VLzNRIGU Intersección X,Y 2\n",
            "172 de 459 xoo0KRCLKFk Expresiones algebráicas con división de fracciones\n",
            "173 de 459 eQV3VOgaKYk Expresiones algebráicas con suma de fracciones\n",
            "174 de 459 WM3lZWweq44 Ejercicios de variables dependientes e independientes. Ejemplo 1\n",
            "175 de 459 kBkCBk5sEvc Ejercicios de variables dependientes e independientes. Ejemplo 2\n",
            "176 de 459 9uiCCGYEVY4 Ejercicios de variables dependientes e independientes. Ejemplo 3\n",
            "177 de 459 NyMNzn10ReE Resolviendo ecuaciones y desigualdades por sustitución. Ejemplo 1\n",
            "178 de 459 Z_NGLQdn0gQ Resolviendo ecuaciones y desigualdades por sustitución. Ejemplo 2\n",
            "179 de 459 Tgq6Q5jdfCc Resolviendo ecuaciones y desigualdades por sustitución. Ejemplo 3\n",
            "180 de 459 rNXMKVNIiVU Resolviendo ecuaciones y desigualdades por sustitución. Ejemplo 4\n",
            "181 de 459 T1KOB8RjwxA Variables, expresiones y ecuaciones\n",
            "182 de 459 v76IhuvSJ3Y Combinando términos semejantes\n",
            "183 de 459 dH7houpcy38 Combinando términos semejantes 1\n",
            "184 de 459 wPXhmqzLqdY Combinando términos semejantes 2\n",
            "185 de 459 RVapkhvYE94 Combinando términos semejantes 3\n",
            "186 de 459 wlNjO5O1auI Combinando términos semejantes y la propiedad distributiva\n",
            "187 de 459 Fjd9jtyYCkE Factorizando expresiones algebráicas\n",
            "188 de 459 0td6i3Pp2bU Formas equivalentes de expresiones 1\n",
            "189 de 459 E6r678B4COo La propiedad distributiva con terminos racionales\n",
            "190 de 459 _w75LbL-bdU Sumando términos racionales semejantes\n",
            "191 de 459 PNR_Uq8RkP4 Abstracción\n",
            "192 de 459 VNyuaGoG0ec La belleza del álgebra\n",
            "193 de 459 akS2vnuAol4 Orígenes del álgebra\n",
            "194 de 459 vhX3DlKEHKk ¿Para qué todas esas letras en álgebra\n",
            "195 de 459 lUQQolpDzKk Ejemplo: evalúa una fórmula usando sustitución\n",
            "196 de 459 UMBVSeb8MZ8 Ejemplo: evaluando expresiones con dos variables\n",
            "197 de 459 o4qqOPsKq9Y Ejemplo evaluando una expresión\n",
            "198 de 459 DSv8T0xQcb0 Ejemplos evaluando expresiones variables\n",
            "199 de 459 3D02VIEjM2c Evaluando expresiones 3. Ejercicio\n",
            "200 de 459 o0q-OvGgDNk Evaluando expresiones exponenciales 2\n",
            "201 de 459 vbaRQeiR0Ug Expresiones con dos variables\n",
            "202 de 459 6khqgRzZLyc ¿Por qué no  usamos el signo de multiplicación?\n",
            "203 de 459 NHx-l-utduQ ¿Qué es una variable?\n",
            "204 de 459 MkPQ4lOCVNk Encontrando la mejor opción en pesticidas\n",
            "205 de 459 pc51yy37nHo Encontrando las unidades de una fórmula\n",
            "206 de 459 3pRS2mYOwE0 Pensando en unidades razonables para decribir la rapidez\n",
            "207 de 459 mpJ28esUFQg Suposición de kilometraje. Ejemplo\n",
            "208 de 459 8qwW0PCRLLc Escribiendo expresiones 1\n",
            "209 de 459 PmXo8O1-BMw Escribiendo expresiones 2\n",
            "210 de 459 zQEI-Bfljsk Escribiendo expresiones 3. Ejercicio 1\n",
            "211 de 459 dujjHyniCYk Escribiendo expresiones matemáticas 3. Ejemplo de ejercicio 3\n",
            "212 de 459 Q5yINFeUZDA Escribiendo expresiones. Ejercicio 2\n",
            "213 de 459 RlrAP3zZI0c Expresiones escritas 2. Ejercicio\n",
            "214 de 459 lHKWo6POBeM Interpretando expresiones lineales. Ejemplo\n",
            "215 de 459 EK6eQHVxZjc Ecuación con valor absoluto sin solución\n",
            "216 de 459 NZbw8F1LxEc Ecuación con valor absoluto. Ejemplo\n",
            "217 de 459 ONipJcoGNO4 Ecuaciones con valor absoluto\n",
            "218 de 459 Ys1yRQkQNP0 Ecuaciones con valor absoluto\n",
            "219 de 459 FRnkY3pa_ec Ecuaciones con valor absoluto 1\n",
            "220 de 459 lpF7DQrBBuU Ejemplo 2 de ecuaciones con valor absoluto\n",
            "221 de 459 IZobLdJBtCg Ejemplo 2: desigualdades con valor absoluto\n",
            "222 de 459 AeY1La3-gPE Ejemplo de ecuaciones con valor absoluto\n",
            "223 de 459 NoD7A7bOlM0 Ejemplo 1: problemas de edad\n",
            "224 de 459 xE79kIBML1E Ejemplo 2: problemas de edad\n",
            "225 de 459 ci9rokP1lJs Ejemplo 3: problemas de edad\n",
            "226 de 459 DTgKCHdtQs0 Convirtiendo decimales que se repiten a fracciones 1\n",
            "227 de 459 DgtbUSnXwsI Convirtiendo decimales que se repiten a fracciones 2\n",
            "228 de 459 AbzPIsS31MI Ecuaciones de dos pasos\n",
            "229 de 459 Y0gAVjNjFjM Ecuaciones de un solo paso\n",
            "230 de 459 CLQpeTPqp-4 Ecuaciones simples de la forma Ax=B\n",
            "231 de 459 T3gH5nagVm0 Resolviendo Ax+B=C\n",
            "232 de 459 HqjmR2BJy6c Resolviendo ecuaciones de un solo paso\n",
            "233 de 459 6bF0tX0AdPE Resolviendo cuaciones de un solo paso 2\n",
            "234 de 459 t5XjYiLC-Wc Resolviendo ecuacuaciones 1\n",
            "235 de 459 AtWAFNYsKVc Evaluando expresiones con variables cuyo valor es desconocido\n",
            "236 de 459 jmTBC9wKMEo Evaluando expresiones con variables desconocidas 2\n",
            "237 de 459 Xxb6gHTwI9M Ejercicio escrito de ecuaciones con una variable\n",
            "238 de 459 iRgklyg0zh0 Problema de aplicación de ecuaciones lineales. Ejemplo\n",
            "239 de 459 o9BW347Nk0A Patrones en secuencias 1\n",
            "240 de 459 LdgVXuW1UlU Patrones en secuencias 2\n",
            "241 de 459 xD2Tw7JsLHo Problema del tren anticipado\n",
            "242 de 459 WULKQWMDx0k Problema elemental de tasas\n",
            "243 de 459 8P050S4pRRs Problemas de mezclas 2\n",
            "244 de 459 uoKSUAsM5Rs Problemas de mezclas 3\n",
            "245 de 459 h0bUxmoEB10 Suma de enteros impares consecutivos\n",
            "246 de 459 brWfFIk15oU Suma de enteros impares y consecutivos\n",
            "247 de 459 w2umbGoAZ38 Un montón de ejemplos de patrones y ecuaciones\n",
            "248 de 459 lgA3AWkI7h4 Variables en ambos lados\n",
            "249 de 459 OUTZUABj89A Variables en ambos lados. Ejemplo 1\n",
            "250 de 459 Q0IWNzHSBu0 Variables en ambos lados. Ejemplo 2\n",
            "251 de 459 uk99UhmAMqU Álgebra: ecuaciones lineales 1\n",
            "252 de 459 3WUIEfyrz20 Álgebra: ecuaciones lineales 2\n",
            "253 de 459 cFqN7gUgMGc Álgebra: ecuaciones lineales 3\n",
            "254 de 459 lostTb_cIbg Álgebra: ecuaciones lineales 4\n",
            "255 de 459 saSvC27eO3g Creciendo bajo cierto porcentaje\n",
            "256 de 459 MkhQchNIHLs Más problemas sobre porcentajes\n",
            "257 de 459 RjvNAJ9tt24 Orden de las operaciones. Ejemplos\n",
            "258 de 459 pWu1krFJIc0 Problemas escritos de edades 1\n",
            "259 de 459 q0GnCoBdX0E Problemas escritos de edades 2\n",
            "260 de 459 n8m8N8Uet_M Problemas escritos de edades 3\n",
            "261 de 459 YoUacCrx0uo Promedios\n",
            "262 de 459 Z1FLFLiyRfE Tomando porcentajes\n",
            "263 de 459 WQCHSivlEVw Ej. 1 Propiedad distributiva por simplificar\n",
            "264 de 459 ZpjSqHQlKDo Ej. 2. Ecuación multipasos\n",
            "265 de 459 5E6BTkkzKls Ej. 3 Propiedad distributiva para simplificar\n",
            "266 de 459 m6vJB_lXbmE Resolviendo ecuaciones con la propiedad distributiva\n",
            "267 de 459 DAJMj1trT5E Resolviendo ecuaciones con la propiedad distributiva 2\n",
            "268 de 459 ml07n22TM8M Simplificando con la propiedad distributiva. Ejemplo 2\n",
            "269 de 459 -BCYYlR45Ag Casos especiales de ecuaciones\n",
            "270 de 459 ishJ1dNmBuQ Número de soluciones a ecuaciones lineales\n",
            "271 de 459 FcVG6_guktg Número de soluciones de las ecuaciones lineales. Ejemplo 2\n",
            "272 de 459 3L7Cn32LzUM Número de soluciones de las ecuaciones lineales. Ejemplo 3\n",
            "273 de 459 XybJKTGAWS4 Arreglando fórmulas para despejar variables específicas\n",
            "274 de 459 mJeeu78_KBE Ejemplo resolviendo para una variable\n",
            "275 de 459 2kEmTL7cxnE Manipulando una fórmula. Ejemplo\n",
            "276 de 459 _6TIgrnnTK8 Resolviendo para una variable\n",
            "277 de 459 VmcB_bae6tU Resolviendo para una variable 2\n",
            "278 de 459 PGACS-qk2m0 Planes de Súper Yoga. Resolviendo ecuaciones en un paso\n",
            "279 de 459 p8Z7q_6iVyY Planes Súper Yoga: graficando puntos\n",
            "280 de 459 AWXRgG1D0WI Planes Súper Yoga. Resolviendo por eliminación\n",
            "281 de 459 jY8sHLILbkw Planes Súper Yoga:  resolviendo por sustitución\n",
            "282 de 459 a6efwhgNx-w Planes Súper Yoga. Variables básicas y ecuaciones\n",
            "283 de 459 AHDL0A2kqvc Ejercicio intuitivo sobre ecuaciones de un solo paso\n",
            "284 de 459 xTl_Z9-i1H4 Intuición con ecuaciones de un paso\n",
            "285 de 459 UCJ8dB_JKms Intuición de porqué dividimos en ambos lados\n",
            "286 de 459 ny7MeAmeFm8 Representación de una relación con una ecuación simple\n",
            "287 de 459 q30KW1gII9k Sumando y restando lo mismo en ambos lados\n",
            "288 de 459 5Cfqq3cOzzM ¿Porqué hacemos lo mismo de ambos lados Sistemas básicos\n",
            "289 de 459 LAxRd5XQIBs ¿Porqué hacemos lo mismo en ambos lados Ecuaciones de dos pasos?\n",
            "290 de 459 KMJg35SIZeo ¿Porqué hacemos lo mismo en ambos lados Ecuaciones de muchos pasos?\n",
            "291 de 459 yQVgQsBvTDA ¿Porqué hacemos lo mismo en ambos lados Sistemas básicos\n",
            "292 de 459 fC4Mt3UOkoA Desigualdades compuestas\n",
            "293 de 459 2Q6jvkSTTTM Desigualdades compuestas\n",
            "294 de 459 UoWJ90qxhbc Desigualdades compuestas 3\n",
            "295 de 459 BrqUFLN2Xuo Desigualdades compuestas 4\n",
            "296 de 459 IWUg_Bc7qb8 Desigualdades compuestas 2\n",
            "297 de 459 Dg1vRTALkpQ Desigualdades con valor absoluto\n",
            "298 de 459 nkOQBV8nspQ Desigualdades con valor absoluto. Ejemplo 1\n",
            "299 de 459 NOC6zuY9BZE Desigualdades con valor absoluto. Ejemplo 3\n",
            "300 de 459 nIjl6faPkAE Escribiendo y usando desigualdades\n",
            "301 de 459 XlRfDOTFsIk Perros gatos y osos en una tienda de mascotas. Argumento analítico\n",
            "302 de 459 Kebhc9jWkRs Perros gatos y osos en una tienda de mascotas. Argumento visual\n",
            "303 de 459 scZoUHh1tRI Razonamiento a través de expresiones de desigualdades\n",
            "304 de 459 l7KvghfgBak Usando expresiones para entender relaciones\n",
            "305 de 459 NyruwGxOqkE Desigualdades\n",
            "306 de 459 DUETugOXhhw Desigualdades de un paso con multiplicación y división. Ejemplo\n",
            "307 de 459 1Wk2_6EZcSk Desigualdades de un paso con suma\n",
            "308 de 459 ICS0W6ft7Mo Desigualdades en multiples pasos\n",
            "309 de 459 NwAVsFtDO04 Desigualdades en multiples pasos 2\n",
            "310 de 459 wq4YpVcb37s Desigualdades en múltiples pasos 3\n",
            "311 de 459 D8dD9hI8yb4 Desigualdades usando multiplicación y división\n",
            "312 de 459 CVTYI3guYKI Desigualdades usando suma y resta\n",
            "313 de 459 6gO27uNb5SI Escribiendo y usando desigualdades\n",
            "314 de 459 ytxb5EONi34 Escribiendo y usando desigualdades 2\n",
            "315 de 459 VOGpVI6S4_Y Interpretando desigualdades\n",
            "316 de 459 omqiLaHv2PQ Resolviendo desigualdades\n",
            "317 de 459 rhHb4SAdqs4 Ejemplo 1 Factorizando por agrupación\n",
            "318 de 459 5jLjgovzSXc Ejemplo 2 Factorizando por agrupación\n",
            "319 de 459 75qqdfYCvng Ejemplo 3 Factorizando por agrupación\n",
            "320 de 459 O28LyVAQ1Hw Ejemplo 4 Factorizando por agrupación\n",
            "321 de 459 rhNQoS9eGss Ejemplo: agrupación básica\n",
            "322 de 459 WXwNlScjHCE Factorización por agrupación y factorización completa\n",
            "323 de 459 6U5idEOsHK4 Ejemplo 1 Factorizando una expresión cuadrática\n",
            "324 de 459 d_V7iJ1iaWY Factorizando expresiones cuadráticas con dos variables\n",
            "325 de 459 kR3UnTMYOc8 Factorizando expresiones cuadráticas con dos variables (ejemplo)\n",
            "326 de 459 HT0K3_U1D1I Factorización y propiedad distributiva\n",
            "327 de 459 P1dRNMHZN60 Factorización y propiedad distributiva\n",
            "328 de 459 TsEOWjBtjUo Factorizando binomios lineales\n",
            "329 de 459 6t7_pUrYyqc Factorizando y la propiedad distributiva 3\n",
            "330 de 459 IgkxdgJUFeE Factorizar polinomios usando el MFC\n",
            "331 de 459 3y7C7pLtLvg Ejemplo Factorizando un trinomio cuadrado perfecto\n",
            "332 de 459 FKv54hU9clc Dividiendo monomios\n",
            "333 de 459 x6RuJwn5bOk Máximo común factor de dos monomios\n",
            "334 de 459 7usppNxgBME Multiplicación y división de monomios 1\n",
            "335 de 459 017QMu_06FU Multiplicando monomios\n",
            "336 de 459 f38KbdlWnBU Multiplicando y dividiendo monomios 2\n",
            "337 de 459 89O5NE_A4fE Multiplicando y dividiendo monomios 3\n",
            "338 de 459 kxMlkwzXJQ4 Elevando un binomio al cuadrado\n",
            "339 de 459 mXFr19ToYkQ Elevando un binomio al cuadrado. Ejemplo 2\n",
            "340 de 459 4y4EzvTgSiY Elevar al cuadrado un binomio\n",
            "341 de 459 c34IiSe-OuU Multiplicando binomios con radicales\n",
            "342 de 459 NjO3IxvsPZM Multiplicando dos binomios PAAU\n",
            "343 de 459 qSeaho_tVvY Multiplicando expresiones nivel 1\n",
            "344 de 459 OOSnd-lVdVE PAAU, multiplicando dos binomios. Ejemplo 2\n",
            "345 de 459 DkcCD_MVE6I Polinomios\n",
            "346 de 459 Cvr6QjJauqI Problema escrito de multiplicación de binomios\n",
            "347 de 459 D6wANZkEEOI Productos especiales de binomios\n",
            "348 de 459 sBhNnSoP10w Productos especiales de polinomios 1\n",
            "349 de 459 ckY4JRLf7co Más polinomios multiplicados\n",
            "350 de 459 Jouo--pA1GA Multiplicando monomios por polinomios\n",
            "351 de 459 0Wix_Ap9tYA Evaluar un polinomio en un valor dado\n",
            "352 de 459 1woleDfMkNA Polinomios 1\n",
            "353 de 459 ph8XLF_uvG0 Polinomios 2\n",
            "354 de 459 hU5aasVpI8o Restando polinomios\n",
            "355 de 459 dU06gyo_0Dk Restando polinomios de varias variables\n",
            "356 de 459 RPX9am4DVYs Simplificar un polinomio\n",
            "357 de 459 a2_dQQM9kac Sumando polinomios\n",
            "358 de 459 y0Oy_3KEiiY Sumando polinomios de varias variables\n",
            "359 de 459 BXngPyAAY9M Sumando y restando polinomios 1\n",
            "360 de 459 cb0mSTVbekQ Sumando y restando polinómios 2\n",
            "361 de 459 ZMmqkr_WitA Sumando y restando polinomios 3\n",
            "362 de 459 7Utz6_E5Ang Ejemplo 1 Completando el cuadrado\n",
            "363 de 459 _SgWSATN9kg Ejemplo 2 completando el cuadrado\n",
            "364 de 459 huvmhmFKBvQ Ejemplo 4 Completando el cuadrado\n",
            "365 de 459 0JMEasgWhNc Ejemplo 5 Completando el cuadrado\n",
            "366 de 459 vb5U1V6wXgg Ejemplo 3 Completando el cuadrado\n",
            "367 de 459 i4iAMHdkS3U Reescribiendo una función cuadrática para encontrar sus raíces y su vértice\n",
            "368 de 459 LIhLNmyUg0U Desplazando y ampliando de parábolas\n",
            "369 de 459 mZASWSo_92c Ejemplo el vértice de una parábola y su eje de simetría\n",
            "370 de 459 Ge-BXhUStFE Ejemplo: las raíces y el vértice de una parábola\n",
            "371 de 459 O4iTP-46zhA Encontrando el vértice de una parábola. Ejemplo\n",
            "372 de 459 lFUwHwhs3VQ Graficando una parábola en la forma canónica\n",
            "373 de 459 TL_7QREHcoM Graficando una parábola usando raíces y vértices\n",
            "374 de 459 y3Ugyn9Ngak Gráficas de funciones cuadráticas\n",
            "375 de 459 gHIgV-_lHdg Álgebra II: cuadráticas y traslaciones\n",
            "376 de 459 y3h5n2x01e0 CA Álgebra I: completando el cuadrado\n",
            "377 de 459 iKSA8GMD7rA CA Álgebra I: ecuación cuadrática\n",
            "378 de 459 i3mCb3xoDIs CA Álgebra I: raíces cuadráticas\n",
            "379 de 459 xWa2_HeigCY CA Álgebra I: factorizando cuadráticas\n",
            "380 de 459 zdKO5OOtc6o Ejemplo  graficando e interpretando cuadráticas\n",
            "381 de 459 FhctGlape8M Fórmula cuadrática. Parte 2\n",
            "382 de 459 8tkkLhfoChw Fórmula cuadrática: demostración\n",
            "383 de 459 EyxZoPotFog Introducción a la fórmula cuadrática\n",
            "384 de 459 VB0yZ6fxQlU Resolviendo una cuadrática por factorización\n",
            "385 de 459 8-ShQmQI9RI Ejemplo 3 Resolviendo una ecuación cuadrática por factorización\n",
            "386 de 459 U27R1GPvcq8 Ejemplo 4 Resolviendo una ecuación cuadrática por factorización\n",
            "387 de 459 j4FeJb8-mqE Determinando errores en una serie de pasos\n",
            "388 de 459 W-6gwYWY_yw Ejemplo Resolviendo una cuadrática simple\n",
            "389 de 459 0lh6mNgT3Sg Ordenar pasos. Ejercicio\n",
            "390 de 459 48bK2SBr0-c Ejemplo 5: usando la fórmula cuadrática\n",
            "391 de 459 UQVkLLvRPUs Ejemplo 1: usando la fórmula cuadrática\n",
            "392 de 459 jP2pRtm7SDw Ejemplo 2: usando la fórmula cuadrática\n",
            "393 de 459 mf0pbtOJNn8 Ejemplo 3: usando la fórmula cuadrática\n",
            "394 de 459 RGIK8FWzBEw Ejemplo 4  Aplicando la fórmula cuadrática\n",
            "395 de 459 SN19Rx31yOY Ejemplo: cuadráticas en forma estándar\n",
            "396 de 459 NGMLgId49YE Más problemas avanzados de razones\n",
            "397 de 459 sMqSGMTyqG4 Otra toma del problema de razones\n",
            "398 de 459 q1TVVnnSG6Q Problema con varias razones\n",
            "399 de 459 -EZdQtSylqI Problemas avanzados de razones\n",
            "400 de 459 IF1Dbd3wAqg Razón y proporción\n",
            "401 de 459 6qoZ7MZkbhk Solución alternativa a problema de razones\n",
            "402 de 459 VooyYyUdmS4 Demostración de que el producto de un racional con un irracional es irracional\n",
            "403 de 459 r2VhbOxjUhQ Demostración de que existe al menos un irracional entre cualesquiera dos racionales\n",
            "404 de 459 amSTE_gb4qk Demostración de que la raíz de un número primo es irracional\n",
            "405 de 459 NSJN3oW6mm4 Demostración de que la suma de un racional con un irracional es irracional\n",
            "406 de 459 gGWlqg-13hk Demostración de que raíz de 2 es irracional\n",
            "407 de 459 -rP_MAluiKA Introducción a números racionales e irracionales\n",
            "408 de 459 5B_KPhjXin8 Reconociendo números irracionales\n",
            "409 de 459 cDhQTkouNkQ Reconocimineto de números racionales e irracionales. Ejemplos\n",
            "410 de 459 rDCvtV4QVAg Suma y producto de números racionales\n",
            "411 de 459 jyCBCyIz9Vw Construyendo proporciones para resolver problemas de aplicación\n",
            "412 de 459 hnqoLSYWfKY Encontrando una incógnita en una proporción 2\n",
            "413 de 459 iDUCbPLvibQ Encontrar una incógnita en una proporción\n",
            "414 de 459 il3qUFVMKuc Escribiendo proporciones\n",
            "415 de 459 bbNSDMCmNZc Problema de razón con álgebra básica\n",
            "416 de 459 _7b55OtleFs Proporciones 2. Ejemplos de ejercicios\n",
            "417 de 459 AgtD0itkV28 Obteniendo el número de monedas escondidas en los huevos de Pascua\n",
            "418 de 459 vo6teDxyahM Propuestas para vender sus productos\n",
            "419 de 459 JatrvSOKCUU Graficando Sistemas de Ecuaciones\n",
            "420 de 459 V29cqJNSEjs Probando una solución de un sistema de ecuaciones\n",
            "421 de 459 Ne99dgBGrM8 Problema de Aplicación de Sistemas Gráficos\n",
            "422 de 459 UYC6odwNEvc Resolviendo sistema gráficamente. Ejemplo 2\n",
            "423 de 459 OEvbgKMDWg4 Resolviendo sistema gráficamente. Ejemplo 3\n",
            "424 de 459 ffTIxe7YHmo Resolviendo sistemas lineales por el método gráfico\n",
            "425 de 459 lmnGSV4Dy4I Método de suma y resta 1\n",
            "426 de 459 e1yFqh2fUlA Método de suma y resta 2\n",
            "427 de 459 KWLhMrw-aK4 Método de suma y resta 3\n",
            "428 de 459 0B1DB9579s0 Método de suma y resta 4\n",
            "429 de 459 n2rlZWiVEeE Resolviendo sistema por eliminación. Ejemplo 1\n",
            "430 de 459 v0vfCVuSoN8 Resolviendo sistemas por eliminación. Ejemplo 2\n",
            "431 de 459 cy2pqpQc0vQ Resolviendo sistemas por eliminación. Ejemplo 3\n",
            "432 de 459 jbqEnUa9l90 El método de sustitución\n",
            "433 de 459 PvaSDoBnAek El método de sustitución 2\n",
            "434 de 459 UTJXrN3s0MQ El método de sustitución 3\n",
            "435 de 459 cgn70jzcFmg Resolviendo sistemas por sustitución. Ejemplo 1\n",
            "436 de 459 BUWCCXwXYYQ Resolviendo sistemas por sustitución. Ejemplo 2\n",
            "437 de 459 laxOcK2CjdE Resolviendo sistemas por sustitución. Ejemplo 3\n",
            "438 de 459 KTmgEjD4q1c Resolviendo sistemas lineales por el método de eliminación\n",
            "439 de 459 YDNQ520HXCw Resolviendo sistemas lineales por el método de sustitución\n",
            "440 de 459 HCRbCAb2N-Q Resolviendo sistemas lineales por multiplicación en el método de eliminación\n",
            "441 de 459 uirblQ-_H9Y Tipos especiales de sistemas lineales\n",
            "442 de 459 7eylA9NuBz8 Un video sobre sistemas de ecuaciones\n",
            "443 de 459 23Y-b7cIHuU El sistema de ecuaciones para notar que te han estafado\n",
            "444 de 459 ix81gHRPg6k Pensando en el caso de dos soluciones múltiples a un sistema de ecuaciones lineales\n",
            "445 de 459 4CJyLQy63S8 Problema sobre la bicicleta que pasa\n",
            "446 de 459 akJIf-Y8yk8 Problemas escritos sobre bicicletas\n",
            "447 de 459 1H9KwxL7uKY Problemas: resolviendo problemas escritos 2\n",
            "448 de 459 7J27_xXcUPQ Trenes que pasan\n",
            "449 de 459 zwyVpWG2lNY Sistemas de ecuaciones y problemas de rapidez\n",
            "450 de 459 aE2_m829EVA Sistemas de ecuaciones y problemas de rapidez 2\n",
            "451 de 459 c0uI8Fl5hgg Sistemas de ecuaciones y problemas de rapidez 3\n",
            "452 de 459 ylese-0SP1M Un problema escrito sobre un sistema lineal resuelto por sustitución\n",
            "453 de 459 pE90BC3F2v4 Un problema sobre rebasar personas\n",
            "454 de 459 ZlvRe4HDb8E Usando un sistema de ecuación para encontrar el precio de las manzanas y de las naranjas\n",
            "455 de 459 mXzWO2GhEm4 Aplicación de un sistema de desigualdades\n",
            "456 de 459 1hqcgThIFQk CA Algebra I: sistemas de desigualdades\n",
            "457 de 459 urgAaz76etc Probando una solución en un sistema de desigualdades\n",
            "458 de 459 GcwsN57ygG0 Construyendo soluciones a sistemas de ecuaciones\n"
          ]
        }
      ],
      "source": [
        "# iii es el nombre de la lista\n",
        "#def crea_docs(iii):\n",
        "\n",
        "from docx import Document\n",
        "from docx.shared import Inches\n",
        "import time\n",
        "import re\n",
        "#from docx2pdf import convert\n",
        "## Creación del documento\n",
        "\n",
        "#for i in range(len(videos_carpetas)):\n",
        "#doc_num=0\n",
        "#i=20\n",
        "for i in range(25,28): # x, y(-1)\n",
        "#pngs=[]\n",
        "#def crea_docs(i, doc_num):\n",
        "  iii=videos_carpetas.iloc[i]\n",
        "  video_data_sub=video_data[video_data['filename']==iii]\n",
        "  print('número ' + str(i) + ' carpeta ' + str(iii))\n",
        "  # videos que tienen subtitulos\n",
        "  video_data_sub_str=subs=video_data_sub[[len(str(i)) >  10 for i in video_data_sub['str']]]\n",
        "  #len(video_data_sub)\n",
        "  #len(video_data_sub_str)\n",
        "\n",
        "\n",
        "  video_data_docx_filter=video_data_sub_str\n",
        "  video_data_docx_filter.drop_duplicates(subset =\"video_id\",inplace=True)\n",
        "  #video_data_docx_filter.columns\n",
        "  for i in (range(doc_num,len(video_data_docx_filter.index))):\n",
        "    video_id=video_data_docx_filter.video_id.iloc[i]\n",
        "    video_name=video_data_docx_filter.Title.iloc[i]\n",
        "    canal_name=str(video_data_docx_filter.chanel.iloc[i])\n",
        "    #print(video_id)\n",
        "    #print(video_name)\n",
        "    \n",
        "    pngs=[]\n",
        "    \n",
        "    for file in os.listdir(os.path.join(path,iii)):\n",
        "        if file.endswith(\".png\") and (video_id in file):\n",
        "          pngs.append(os.path.join(path,iii, file))\n",
        "\n",
        "    pngs.sort()\n",
        "    #print(pngs)\n",
        "    # Obtain image_ids and respective hash values\n",
        "    image_ids, hash_values = calculate_hash(pngs)\n",
        "    # Obtain dataframe\n",
        "    df = prepare_dataframe(image_ids, hash_values)\n",
        "    #df.head(2)\n",
        "    df = calculate_differences(df)\n",
        "    df.reset_index(inplace=True)\n",
        "    df.sort_values(by=['image_ids'])\n",
        "    df = df.drop_duplicates('hash_values', keep='first')\n",
        "    pngs_select=[]\n",
        "    pngs_select=list(df.image_ids[df.hash_values.diff(periods=1)>1])\n",
        "    #print(pngs_select)\n",
        "  #texto de subtitulos para el documento\n",
        "    S=video_data_docx_filter['str'][video_data_docx_filter['video_id']==video_id]\n",
        "    T=video_data_docx_filter['start'][video_data_docx_filter['video_id']==video_id]\n",
        "    C=video_data_docx_filter['key_words'][video_data_docx_filter['video_id']==video_id]\n",
        "\n",
        "    #Segundo de la imagen\n",
        "    frames=list(map(int, ([x[-7:-4] for x in pngs_select][:-1] )))\n",
        "    #frames=[0] + frames\n",
        "    seg=[x*1/float(rate) for x in frames]\n",
        "    tiempo=[time.strftime(\"%H:%M:%S\",time.gmtime(int(x))) for x in seg]+['FIN']\n",
        "    #Texto en cada imagen\n",
        "    # falla porque esta almacenando doble los subtitulos (no sé porqué)\n",
        "    try:\n",
        "      start=[float(x) for x in [re.sub(\"[^0-9|\\.]\", \"\", x) for x in str(T).split('///')]]\n",
        "      text=[re.sub(\"\\nName: str, dtype: object\", \"\", x) for x in str(S).split('///')]\n",
        "    except:\n",
        "      value=[x.count('.')==2 for x in str(T).split('///') ]\n",
        "      start=[(x) for x in [re.sub(\"[^0-9|\\.]\", \"\", x) for x in str(T).split('///')]]\n",
        "      text=[re.sub(\"\\nName: str, dtype: object\", \"\", x) for x in str(S).split('///')]\n",
        "      dos_puntos = pd.DataFrame(list(zip(start, text)),columns =['start', 'text'])\n",
        "      dos_puntos.drop(range(dos_puntos.index[value].tolist()[0]+1, len(dos_puntos)), axis=0,inplace=True)\n",
        "      dos_puntos.iloc[len(dos_puntos)-1,:][0]=dos_puntos.iloc[len(dos_puntos)-1,:][0][:-4]\n",
        "      start=dos_puntos['start'].tolist()\n",
        "      text=dos_puntos['text'].tolist()\n",
        "\n",
        "\n",
        "    strdf=pd.DataFrame(pd.cut(start, bins=[0]+seg),text).reset_index()\n",
        "    strdf.columns=['srt','start']\n",
        "\n",
        "    strdf_gr=strdf.groupby(['start']).agg({'srt': ' '.join})\n",
        "    strdf_gr.reset_index(inplace=True)\n",
        "\n",
        "    str_doc=pd.concat([strdf_gr.srt,pd.Series(['Fin'])])\n",
        "\n",
        "    str_doc=pd.DataFrame(str_doc).reset_index()\n",
        "    str_doc.columns=['index','str']\n",
        "\n",
        "    document = Document()\n",
        "    document.add_picture('/gdrive/MyDrive/2020/Hackathon EducALL/Branding/Logo/Educall logo slogan 1.png', width=Inches(2.5))\n",
        "    document.add_heading(iii, 0)\n",
        "    document.add_heading(video_name, 1)\n",
        "    document.add_paragraph('Obtenido del canal de Youtube '+canal_name + ' distribuido bajo licencias Creative Commons')\n",
        "    document.add_heading('Palabras Clave', 2)\n",
        "    document.add_paragraph(re.sub(\"\\\\nName: key_words, dtype: object\", \"\",str(C)))\n",
        "\n",
        "\n",
        "    #document.add_paragraph(str(S).split('///'))\n",
        "    document.add_heading('Imágenes de apoyo', 2)\n",
        "\n",
        "\n",
        "  #  print(len(pngs_select))\n",
        "  #  print(len(str_doc.str))\n",
        "\n",
        "    for j in range(0, len(pngs_select)):\n",
        "      document.add_heading(tiempo[j],3)\n",
        "      document.add_picture(pngs_select[j], width=Inches(4.5))\n",
        "      document.add_paragraph(str_doc.str[j])\n",
        "    document.save(os.path.join(path,'0.Salida',iii,iii +' '+video_name+' '+video_id+'.docx'))\n",
        "    #convert(os.path.join(path,'0.Salida',iii,iii +' '+video_name+' '+video_id+'.docx'))\n",
        "    print(str(i) + ' de ' + str(len(video_data_docx_filter)) +' '+ video_id +' ' +video_name)\n",
        "    doc_num=i+1\n"
      ]
    },
    {
      "cell_type": "code",
      "execution_count": null,
      "metadata": {
        "id": "FMVN5SCXFFaa"
      },
      "outputs": [],
      "source": [
        "#path_docx=os.path.join(path,'0.Salida',iii,iii) #Ejecución: No requerida\n",
        "#convert(path_docx)\n",
        "crea_docs(2,0)\n",
        "#pasar a 2\n"
      ]
    },
    {
      "cell_type": "markdown",
      "metadata": {
        "id": "M2JqupU8vgG0"
      },
      "source": [
        "# Celdas de respaldo\n"
      ]
    },
    {
      "cell_type": "markdown",
      "metadata": {
        "id": "vbM8_8wbvL5i"
      },
      "source": [
        "# 📃Creación de Documento\n",
        "https://python-docx.readthedocs.io/en/latest/\n",
        "pip install python-docx\n"
      ]
    },
    {
      "cell_type": "code",
      "execution_count": null,
      "metadata": {
        "colab": {
          "base_uri": "https://localhost:8080/",
          "height": 271
        },
        "id": "bLp6YVo1tnyS",
        "outputId": "a2c220e2-832e-4c9c-c30e-0972e574be4f"
      },
      "outputs": [
        {
          "ename": "NameError",
          "evalue": "ignored",
          "output_type": "error",
          "traceback": [
            "\u001b[0;31m---------------------------------------------------------------------------\u001b[0m",
            "\u001b[0;31mNameError\u001b[0m                                 Traceback (most recent call last)",
            "\u001b[0;32m<ipython-input-13-9c701a1b33ec>\u001b[0m in \u001b[0;36m<module>\u001b[0;34m()\u001b[0m\n\u001b[1;32m      4\u001b[0m \u001b[0;32mimport\u001b[0m \u001b[0mre\u001b[0m\u001b[0;34m\u001b[0m\u001b[0;34m\u001b[0m\u001b[0m\n\u001b[1;32m      5\u001b[0m \u001b[0;34m\u001b[0m\u001b[0m\n\u001b[0;32m----> 6\u001b[0;31m \u001b[0mvideo_data_sub\u001b[0m\u001b[0;34m.\u001b[0m\u001b[0mhead\u001b[0m\u001b[0;34m(\u001b[0m\u001b[0;34m)\u001b[0m\u001b[0;34m\u001b[0m\u001b[0;34m\u001b[0m\u001b[0m\n\u001b[0m\u001b[1;32m      7\u001b[0m \u001b[0;31m# documentos pendientes\u001b[0m\u001b[0;34m\u001b[0m\u001b[0;34m\u001b[0m\u001b[0;34m\u001b[0m\u001b[0m\n\u001b[1;32m      8\u001b[0m \u001b[0mfile_docxs\u001b[0m\u001b[0;34m=\u001b[0m\u001b[0;34m[\u001b[0m\u001b[0;34m]\u001b[0m\u001b[0;34m\u001b[0m\u001b[0;34m\u001b[0m\u001b[0m\n",
            "\u001b[0;31mNameError\u001b[0m: name 'video_data_sub' is not defined"
          ]
        }
      ],
      "source": [
        "from docx import Document\n",
        "from docx.shared import Inches\n",
        "import time\n",
        "import re\n",
        "\n",
        "#video_data_sub.head()\n",
        "# documentos pendientes\n",
        "file_docxs=[]\n",
        "docxs=[]\n",
        "for file in os.listdir(os.path.join(path,'0.Salida',iii)):\n",
        "    if file.endswith(\".docx\"):\n",
        "      file_docxs.append(file)\n",
        "      docxs.append(file[-16:-5])\n",
        "\n",
        "#Borrado de archivos, para reescribir\n",
        "#for docx in file_docxs:\n",
        "#  os.remove(os.path.join(path,'0.Salida',iii,docx))\n",
        "\n",
        "pendientes = list(set(video_data_sub.video_id) - set(docxs))\n",
        "pendientes=pendientes[1:]\n",
        "\n",
        "video_data_docx_filter=video_data_sub[video_data_sub['video_id'].isin(pendientes)]\n",
        "#video_data_docx_filter.video_id[video_data_docx_filter.video_id=='9Y4FFK7b-M']\n",
        "\n",
        "for i in (video_data_docx_filter.index):\n",
        "  video_id=video_data_sub.video_id[i]\n",
        "  video_name=video_data_sub.Title[i]\n",
        "  \n",
        "  pngs=[]\n",
        "  for file in os.listdir(os.path.join(path,iii)):\n",
        "      if file.endswith(\".png\") and (video_id in file):\n",
        "        pngs.append(os.path.join(path,iii, file))\n",
        "  pngs.sort()\n",
        "  # Obtain image_ids and respective hash values\n",
        "  image_ids, hash_values = calculate_hash(pngs)\n",
        "  # Obtain dataframe\n",
        "  df = prepare_dataframe(image_ids, hash_values)\n",
        "\n",
        "  df = calculate_differences(df)\n",
        "  df.reset_index(inplace=True)\n",
        "  df.sort_values(by=['image_ids'])\n",
        "  df = df.drop_duplicates('hash_values', keep='first')\n",
        "\n",
        "  pngs_select=list(df.image_ids[df.hash_values.diff(periods=1)>1])\n",
        "#texto de subtitulos para el documento\n",
        "  S=video_data_sub['str'][video_data_sub['video_id']==video_id]\n",
        "  T=video_data_sub['start'][video_data_sub['video_id']==video_id]\n",
        "  C=video_data_sub['key_words'][video_data_sub['video_id']==video_id]\n",
        "\n",
        "  #Segundo de la imagen\n",
        "  frames=list(map(int, ([x[-7:-4] for x in pngs_select][:-1] )))\n",
        "  #frames=[0] + frames\n",
        "  seg=[x*1/float(rate) for x in frames]\n",
        "  tiempo=[time.strftime(\"%H:%M:%S\",time.gmtime(int(x))) for x in seg]+['FIN']\n",
        "  #Texto en cada imagen\n",
        "  start=[float(x) for x in [re.sub(\"[^0-9|\\.]\", \"\", x) for x in str(T).split('///')]]\n",
        "  text=[re.sub(\"\\nName: str, dtype: object\", \"\", x) for x in str(S).split('///')]\n",
        "\n",
        "  strdf=pd.DataFrame(pd.cut(start, bins=[0]+seg),text).reset_index()\n",
        "  strdf.columns=['srt','start']\n",
        "\n",
        "  strdf_gr=strdf.groupby(['start']).agg({'srt': ' '.join})\n",
        "  strdf_gr.reset_index(inplace=True)\n",
        "\n",
        "  str_doc=pd.concat([strdf_gr.srt,pd.Series(['Fin'])])\n",
        "\n",
        "  str_doc=pd.DataFrame(str_doc).reset_index()\n",
        "  str_doc.columns=['index','str']\n",
        "\n",
        "  document = Document()\n",
        "  document.add_picture('/gdrive/MyDrive/2020/Hackathon EducALL/Branding/Logo/Educall logo slogan 1.png', width=Inches(2.5))\n",
        "  document.add_heading(iii, 0)\n",
        "  document.add_heading(video_name, 1)\n",
        "  document.add_paragraph('Obtenido del canal de Youtube '+canal_name + ' distribuido bajo licencias Creative Commons')\n",
        "  document.add_heading('Palabras Clave', 2)\n",
        "  document.add_paragraph(re.sub(\"\\\\nName: key_words, dtype: object\", \"\",str(C)))\n",
        "\n",
        "\n",
        "  #document.add_paragraph(str(S).split('///'))\n",
        "  document.add_heading('Imágenes de apoyo', 2)\n",
        "\n",
        "\n",
        "#  print(len(pngs_select))\n",
        "#  print(len(str_doc.str))\n",
        "\n",
        "  for j in range(0, len(pngs_select)):\n",
        "    document.add_heading(tiempo[j],3)\n",
        "    document.add_picture(pngs_select[j], width=Inches(4.5))\n",
        "    document.add_paragraph(str_doc.str[j])\n",
        "  document.save(os.path.join(path,'0.Salida',iii,iii +' '+video_name+' '+video_id+'.docx'))\n",
        "  print(str(i) + ' de ' + str(len(video_data_docx_filter)) +' '+ video_id)\n"
      ]
    },
    {
      "cell_type": "markdown",
      "metadata": {
        "id": "JNuqm_qk7V3p"
      },
      "source": [
        "# ⚙ en progreso\n",
        "## concatenar arichvos de excel para recomendación \n",
        "\n",
        "busqueda recursiva en sub carpetas\n",
        "https://stackoverflow.com/questions/5817209/browse-files-and-subfolders-in-python"
      ]
    },
    {
      "cell_type": "code",
      "execution_count": null,
      "metadata": {
        "colab": {
          "base_uri": "https://localhost:8080/"
        },
        "id": "nGgWW-3WYsuG",
        "outputId": "1345b218-3c9c-4a3e-831b-1cf28af8a6e7"
      },
      "outputs": [
        {
          "data": {
            "text/plain": [
              "['/gdrive/MyDrive/ContenidosEducALL/0.Salida/Guías para Padres/Guías para Padres.xlsx']"
            ]
          },
          "execution_count": 15,
          "metadata": {},
          "output_type": "execute_result"
        }
      ],
      "source": [
        "xlsx=[]\n",
        "for file in os.listdir(result_path):\n",
        "    if file.endswith(\".xlsx\"):\n",
        "      xlsx.append(os.path.join(result_path, file))\n",
        "\n",
        "xlsx"
      ]
    },
    {
      "cell_type": "markdown",
      "metadata": {
        "id": "bJ467q3_0P9M"
      },
      "source": [
        "# Sopa de letras\n",
        "https://scipython.com/blog/making-a-word-search-puzzle-in-python/"
      ]
    },
    {
      "cell_type": "code",
      "execution_count": null,
      "metadata": {
        "id": "siAyeHbcCey1"
      },
      "outputs": [],
      "source": [
        "video_data['filename'].replace(\".xlsx\",\"\",regex=True, inplace = True)\n",
        "videos_carpetas=video_data['filename'].drop_duplicates()\n",
        "video_data_clean=video_data.drop_duplicates(subset='video_id',keep='last')\n",
        "iii=videos_carpetas.iloc[2]\n",
        "video_data_sub=video_data[video_data['filename']==iii]\n"
      ]
    }
  ],
  "metadata": {
    "colab": {
      "collapsed_sections": [
        "bJ467q3_0P9M"
      ],
      "name": "Creación documentos.ipynb",
      "provenance": [],
      "include_colab_link": true
    },
    "kernelspec": {
      "display_name": "Python 3",
      "name": "python3"
    }
  },
  "nbformat": 4,
  "nbformat_minor": 0
}